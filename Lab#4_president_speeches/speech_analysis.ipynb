{
 "cells": [
  {
   "cell_type": "markdown",
   "metadata": {
    "deletable": true,
    "editable": true
   },
   "source": [
    "# Analyze President Speeches\n",
    "When you analyze the sentiment of a body of text, you can look at it from two perspectives:\n",
    "\n",
    "* How positive, neutral or negative is the text? This is called the polarity. Statements about love and happiness will have a positive vibe to them and be given a polarity of 1. Statements about doom and destruction will have a negative vibe and be given a polarity of -1. This being a happy moment in the candidates’ lives, and the fact that they are talking to a friendly crowd, I expected the overall sentiment to be positive.\n",
    "\n",
    "* How emotional is the text? A speech can be neutral either because it is simply a recitation of facts, or because the positive polarities and negative polarities cancel each other. So, you should look at the sentiment underlying the text on both these dimensions."
   ]
  },
  {
   "cell_type": "code",
   "execution_count": 1,
   "metadata": {
    "collapsed": true,
    "deletable": true,
    "editable": true
   },
   "outputs": [],
   "source": [
    "import argparse\n",
    "import pandas as pd\n",
    "import numpy as np\n",
    "import urllib2\n",
    "\n",
    "from google.cloud import language\n",
    "from google.cloud.language import enums\n",
    "from google.cloud.language import types"
   ]
  },
  {
   "cell_type": "code",
   "execution_count": 9,
   "metadata": {
    "collapsed": false,
    "deletable": true,
    "editable": true
   },
   "outputs": [],
   "source": [
    " def process_entities(result):\n",
    "    entity_array_positive = set()\n",
    "    for entity in result.entities:\n",
    "      if entity.type == 1 or entity.type == 3:\n",
    "        for mention in entity.mentions:\n",
    "          if mention.sentiment.score > 0.89:\n",
    "            entity_array_positive.add(mention.text.content)\n",
    "    return entity_array_positive"
   ]
  },
  {
   "cell_type": "code",
   "execution_count": 11,
   "metadata": {
    "collapsed": false,
    "deletable": true,
    "editable": true
   },
   "outputs": [
    {
     "ename": "AttributeError",
     "evalue": "'set' object has no attribute 'encode'",
     "output_type": "error",
     "traceback": [
      "\u001b[0;31m\u001b[0m",
      "\u001b[0;31mAttributeError\u001b[0mTraceback (most recent call last)",
      "\u001b[0;32m<ipython-input-11-0a2610b2a68a>\u001b[0m in \u001b[0;36m<module>\u001b[0;34m()\u001b[0m\n\u001b[1;32m     24\u001b[0m   \u001b[0mmagnitude\u001b[0m \u001b[0;34m=\u001b[0m \u001b[0mresponse\u001b[0m\u001b[0;34m.\u001b[0m\u001b[0mdocument_sentiment\u001b[0m\u001b[0;34m.\u001b[0m\u001b[0mmagnitude\u001b[0m\u001b[0;34m\u001b[0m\u001b[0m\n\u001b[1;32m     25\u001b[0m   \u001b[0mentity_pos\u001b[0m \u001b[0;34m=\u001b[0m \u001b[0mprocess_entities\u001b[0m\u001b[0;34m(\u001b[0m\u001b[0mresponse_entities\u001b[0m\u001b[0;34m)\u001b[0m\u001b[0;34m\u001b[0m\u001b[0m\n\u001b[0;32m---> 26\u001b[0;31m   \u001b[0;32mprint\u001b[0m\u001b[0;34m(\u001b[0m\u001b[0;34m'POLARITY=%s MAGNITUDE=%s SPEAKER=%s POSITIVE_MENTIONS=%s'\u001b[0m \u001b[0;34m%\u001b[0m \u001b[0;34m(\u001b[0m\u001b[0mpolarity\u001b[0m\u001b[0;34m,\u001b[0m \u001b[0mmagnitude\u001b[0m\u001b[0;34m,\u001b[0m \u001b[0mspeaker\u001b[0m\u001b[0;34m,\u001b[0m\u001b[0mentity_pos\u001b[0m\u001b[0;34m.\u001b[0m\u001b[0mencode\u001b[0m\u001b[0;34m(\u001b[0m\u001b[0;34m\"utf-8\"\u001b[0m\u001b[0;34m)\u001b[0m\u001b[0;34m)\u001b[0m\u001b[0;34m)\u001b[0m\u001b[0;34m\u001b[0m\u001b[0m\n\u001b[0m\u001b[1;32m     27\u001b[0m   \u001b[0msentiment\u001b[0m\u001b[0;34m.\u001b[0m\u001b[0mextend\u001b[0m\u001b[0;34m(\u001b[0m\u001b[0;34m[\u001b[0m\u001b[0mspeaker\u001b[0m\u001b[0;34m,\u001b[0m \u001b[0mparty\u001b[0m\u001b[0;34m,\u001b[0m \u001b[0myear\u001b[0m\u001b[0;34m,\u001b[0m \u001b[0mfloat\u001b[0m\u001b[0;34m(\u001b[0m\u001b[0mpolarity\u001b[0m\u001b[0;34m)\u001b[0m\u001b[0;34m,\u001b[0m \u001b[0mfloat\u001b[0m\u001b[0;34m(\u001b[0m\u001b[0mmagnitude\u001b[0m\u001b[0;34m)\u001b[0m\u001b[0;34m,\u001b[0m\u001b[0mentity_pos\u001b[0m\u001b[0;34m]\u001b[0m\u001b[0;34m)\u001b[0m\u001b[0;34m\u001b[0m\u001b[0m\n",
      "\u001b[0;31mAttributeError\u001b[0m: 'set' object has no attribute 'encode'"
     ]
    }
   ],
   "source": [
    "speeches = [\n",
    "  ['Hillary Clinton', 'D', 2016, 'http://www.presidency.ucsb.edu/ws/index.php?pid=118051'],\n",
    "  ['Donald Trump', 'R', 2016, 'http://www.presidency.ucsb.edu/ws/index.php?pid=117935'],\n",
    "  ['Barack Obama', 'D', 2012, 'http://www.presidency.ucsb.edu/ws/index.php?pid=101968'],\n",
    "  ['Mitt Romney', 'R', 2012, 'http://www.presidency.ucsb.edu/ws/index.php?pid=101966'],\n",
    "  ['Barack Obama', 'D', 2008, 'http://www.presidency.ucsb.edu/ws/index.php?pid=78284'],\n",
    "  ['John McCain', 'R', 2008, 'http://www.presidency.ucsb.edu/ws/index.php?pid=78576'],\n",
    "  ['John Kerry', 'D', 2004, 'http://www.presidency.ucsb.edu/ws/index.php?pid=25971'],\n",
    "  ['George W Bush', 'R', 2004, 'http://www.presidency.ucsb.edu/ws/index.php?pid=72727'],\n",
    "  ['Al Gore', 'D', 2000, 'http://www.presidency.ucsb.edu/ws/index.php?pid=25963'],\n",
    "  ['George W Bush', 'R', 2000, 'http://www.presidency.ucsb.edu/ws/index.php?pid=25954']\n",
    "]\n",
    "\n",
    "sentiment = []\n",
    "client = language.LanguageServiceClient()\n",
    "for (speaker, party, year, url) in speeches:\n",
    "  text_of_speech = urllib2.urlopen(url).read()\n",
    "  document = types.Document(\n",
    "        content=unicode(text_of_speech, errors='ignore'),\n",
    "        type=enums.Document.Type.HTML)\n",
    "  response = client.analyze_sentiment(document=document)\n",
    "  response_entities = client.analyze_entity_sentiment(document=document)\n",
    "  polarity = response.document_sentiment.score\n",
    "  magnitude = response.document_sentiment.magnitude\n",
    "  entity_pos = process_entities(response_entities)\n",
    "  print('POLARITY=%s MAGNITUDE=%s SPEAKER=%s POSITIVE_MENTIONS=%s' % (polarity, magnitude, speaker,entity_pos.encode(\"utf-8\")))\n",
    "  sentiment.extend([speaker, party, year, float(polarity), float(magnitude),entity_pos])"
   ]
  },
  {
   "cell_type": "code",
   "execution_count": 17,
   "metadata": {
    "collapsed": false,
    "deletable": true,
    "editable": true
   },
   "outputs": [],
   "source": [
    "df = pd.DataFrame(data=np.array(sentiment).reshape(10,5),\n",
    "                  columns=['speaker', 'party', 'year', 'polarity', 'magnitude'])\n",
    "for col in ['year', 'polarity', 'magnitude']:\n",
    "  df[col] = pd.to_numeric(df[col])"
   ]
  },
  {
   "cell_type": "markdown",
   "metadata": {
    "deletable": true,
    "editable": true
   },
   "source": [
    "### Everyone is quite emotional. Except Obama 2008"
   ]
  },
  {
   "cell_type": "code",
   "execution_count": 16,
   "metadata": {
    "collapsed": false,
    "deletable": true,
    "editable": true
   },
   "outputs": [
    {
     "data": {
      "text/plain": [
       "<matplotlib.axes._subplots.AxesSubplot at 0x7fd7c1645f90>"
      ]
     },
     "execution_count": 16,
     "metadata": {},
     "output_type": "execute_result"
    },
    {
     "data": {
      "image/png": "[encoded data removed]",
      "text/plain": [
       "<matplotlib.figure.Figure at 0x7fd7c16bb050>"
      ]
     },
     "metadata": {},
     "output_type": "display_data"
    }
   ],
   "source": [
    "df = df.sort_values('year')\n",
    "df.plot(x='speaker',  y='magnitude', kind='bar')"
   ]
  },
  {
   "cell_type": "code",
   "execution_count": null,
   "metadata": {
    "collapsed": true,
    "deletable": true,
    "editable": true
   },
   "outputs": [],
   "source": []
  }
 ],
 "metadata": {
  "kernelspec": {
   "display_name": "Python 2",
   "language": "python",
   "name": "python2"
  },
  "language_info": {
   "codemirror_mode": {
    "name": "ipython",
    "version": 2
   },
   "file_extension": ".py",
   "mimetype": "text/x-python",
   "name": "python",
   "nbconvert_exporter": "python",
   "pygments_lexer": "ipython2",
   "version": "2.7.14"
  }
 },
 "nbformat": 4,
 "nbformat_minor": 2
}
